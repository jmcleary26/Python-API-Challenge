{
 "cells": [
  {
   "cell_type": "markdown",
   "metadata": {},
   "source": [
    "#  WeatherPy"
   ]
  },
  {
   "cell_type": "code",
   "execution_count": 1,
   "metadata": {},
   "outputs": [],
   "source": [
    "# Dependencies and Setup\n",
    "import matplotlib.pyplot as plt\n",
    "import pandas as pd\n",
    "import numpy as np\n",
    "import requests\n",
    "import time\n",
    "from scipy.stats import linregress\n",
    "import json\n",
    "from datetime import datetime\n",
    "\n",
    "# Import API key\n",
    "from api_keys import weather_api_key\n",
    "\n",
    "# Incorporated citipy to determine city based on latitude and longitude\n",
    "from citipy import citipy\n",
    "\n",
    "# Output File (CSV)\n",
    "output_data_file = \"output_data/cities.csv\"\n",
    "\n",
    "# Range of latitudes and longitudes\n",
    "lat_range = (-90, 90)\n",
    "lng_range = (-180, 180)"
   ]
  },
  {
   "cell_type": "code",
   "execution_count": 2,
   "metadata": {},
   "outputs": [
    {
     "data": {
      "text/plain": [
       "606"
      ]
     },
     "execution_count": 2,
     "metadata": {},
     "output_type": "execute_result"
    }
   ],
   "source": [
    "# List for holding lat_lngs and cities\n",
    "lat_lngs = []\n",
    "cities = []\n",
    "\n",
    "# Create a set of random lat and lng combinations\n",
    "lats = np.random.uniform(lat_range[0], lat_range[1], size=1500)\n",
    "lngs = np.random.uniform(lng_range[0], lng_range[1], size=1500)\n",
    "lat_lngs = zip(lats, lngs)\n",
    "\n",
    "# Identify nearest city for each lat, lng combination\n",
    "for lat_lng in lat_lngs:\n",
    "    city = citipy.nearest_city(lat_lng[0], lat_lng[1]).city_name\n",
    "    \n",
    "    # If the city is unique, then add it to a our cities list\n",
    "    if city not in cities:\n",
    "        cities.append(city)\n",
    "\n",
    "# Print the city count to confirm sufficient count\n",
    "len(cities)"
   ]
  },
  {
   "cell_type": "markdown",
   "metadata": {},
   "source": [
    "# Perform API Calls\n",
    "\n",
    "Perform a weather check on each city using a series of successive API calls.\n",
    "Include a print log of each city as it'sbeing processed (with the city number and city name)."
   ]
  },
  {
   "cell_type": "code",
   "execution_count": 3,
   "metadata": {},
   "outputs": [],
   "source": [
    "# Establish base URL to test a city\n",
    "url = \"http://api.openweathermap.org/data/2.5/weather?\"\n",
    "city = \"Boston\"\n",
    "\n",
    "\n",
    "# Build query URL\n",
    "query_url = url + \"q=\" + city + \"&units=imperial\" + \"&appid=\" + weather_api_key"
   ]
  },
  {
   "cell_type": "code",
   "execution_count": 4,
   "metadata": {},
   "outputs": [
    {
     "data": {
      "text/plain": [
       "'67f3518c2599ae046961d6e603a09e16'"
      ]
     },
     "execution_count": 4,
     "metadata": {},
     "output_type": "execute_result"
    }
   ],
   "source": [
    "# Check that API Key is working\n",
    "weather_api_key"
   ]
  },
  {
   "cell_type": "code",
   "execution_count": 5,
   "metadata": {},
   "outputs": [
    {
     "data": {
      "text/plain": [
       "{'coord': {'lon': -71.0598, 'lat': 42.3584},\n",
       " 'weather': [{'id': 803,\n",
       "   'main': 'Clouds',\n",
       "   'description': 'broken clouds',\n",
       "   'icon': '04d'}],\n",
       " 'base': 'stations',\n",
       " 'main': {'temp': 15.04,\n",
       "  'feels_like': 1.4,\n",
       "  'temp_min': 12.99,\n",
       "  'temp_max': 17.01,\n",
       "  'pressure': 1011,\n",
       "  'humidity': 49},\n",
       " 'visibility': 10000,\n",
       " 'wind': {'speed': 13, 'deg': 340, 'gust': 30},\n",
       " 'clouds': {'all': 80},\n",
       " 'dt': 1611942960,\n",
       " 'sys': {'type': 3,\n",
       "  'id': 2013408,\n",
       "  'country': 'US',\n",
       "  'sunrise': 1611921635,\n",
       "  'sunset': 1611957245},\n",
       " 'timezone': -18000,\n",
       " 'id': 4930956,\n",
       " 'name': 'Boston',\n",
       " 'cod': 200}"
      ]
     },
     "execution_count": 5,
     "metadata": {},
     "output_type": "execute_result"
    }
   ],
   "source": [
    "# Test a random city\n",
    "weather_response = requests.get(query_url)\n",
    "weather_json = weather_response.json()\n",
    "weather_json"
   ]
  },
  {
   "cell_type": "code",
   "execution_count": 6,
   "metadata": {},
   "outputs": [
    {
     "name": "stdout",
     "output_type": "stream",
     "text": [
      "Processing Record zarichne\n",
      "Processing Record mataura\n",
      "Processing Record ushuaia\n",
      "Processing Record new norfolk\n",
      "Processing Record busselton\n",
      "Processing Record georgetown\n",
      "Processing Record cape town\n",
      "Processing Record olga\n",
      "Processing Record horsham\n",
      "Processing Record peniche\n",
      "Processing Record labuan\n",
      "Processing Record shagonar\n",
      "Processing Record barrow\n",
      "Processing Record bonavista\n",
      "City not found. Skipping\n",
      "Processing Record airai\n",
      "City not found. Skipping\n",
      "Processing Record vaini\n",
      "Processing Record tasiilaq\n",
      "Processing Record hithadhoo\n",
      "Processing Record loukhi\n",
      "Processing Record colac\n",
      "Processing Record albany\n",
      "Processing Record pevek\n",
      "City not found. Skipping\n",
      "Processing Record upernavik\n",
      "Processing Record bredasdorp\n",
      "City not found. Skipping\n",
      "City not found. Skipping\n",
      "Processing Record hermanus\n",
      "Processing Record manicore\n",
      "Processing Record sakakah\n",
      "Processing Record along\n",
      "Processing Record puerto ayora\n",
      "Processing Record pimentel\n",
      "Processing Record paita\n",
      "Processing Record bengkulu\n",
      "Processing Record ahipara\n",
      "Processing Record emet\n",
      "Processing Record port alfred\n",
      "Processing Record dikson\n",
      "Processing Record avarua\n",
      "Processing Record cabo san lucas\n",
      "Processing Record mount pleasant\n",
      "Processing Record iqaluit\n",
      "City not found. Skipping\n",
      "Processing Record nouadhibou\n",
      "City not found. Skipping\n",
      "Processing Record tual\n",
      "Processing Record san felipe\n",
      "Processing Record severo-kurilsk\n",
      "Processing Record punta arenas\n",
      "Processing Record lagoa\n",
      "Processing Record bluff\n",
      "Processing Record rikitea\n",
      "Processing Record atuona\n",
      "Processing Record yenagoa\n",
      "Processing Record nikolskoye\n",
      "Processing Record ancud\n",
      "Processing Record kodiak\n",
      "City not found. Skipping\n",
      "Processing Record svetlyy\n",
      "Processing Record urucara\n",
      "City not found. Skipping\n",
      "Processing Record sao filipe\n",
      "Processing Record pemberton\n",
      "Processing Record chokurdakh\n",
      "Processing Record najran\n",
      "Processing Record byron bay\n",
      "Processing Record laguna\n",
      "Processing Record vila franca do campo\n",
      "Processing Record luwuk\n",
      "Processing Record kapaa\n",
      "Processing Record arraial do cabo\n",
      "Processing Record hilo\n",
      "Processing Record saint-philippe\n",
      "Processing Record college\n",
      "Processing Record sao joao da barra\n",
      "Processing Record tuktoyaktuk\n",
      "Processing Record castro\n",
      "Processing Record assare\n",
      "Processing Record batagay-alyta\n",
      "Processing Record butaritari\n",
      "Processing Record chuy\n",
      "Processing Record opuwo\n",
      "Processing Record faanui\n",
      "Processing Record bubaque\n",
      "Processing Record lebu\n",
      "Processing Record saldanha\n",
      "Processing Record ambulu\n",
      "Processing Record vestmannaeyjar\n",
      "Processing Record datong\n",
      "Processing Record dolinsk\n",
      "Processing Record hobart\n",
      "Processing Record bethel\n",
      "Processing Record melendugno\n",
      "Processing Record itarema\n",
      "Processing Record bilibino\n",
      "Processing Record east london\n",
      "Processing Record haines junction\n",
      "Processing Record carnarvon\n",
      "City not found. Skipping\n",
      "Processing Record kitzbuhel\n",
      "Processing Record cacule\n",
      "Processing Record codrington\n",
      "Processing Record hualmay\n",
      "Processing Record mount isa\n",
      "Processing Record pontes e lacerda\n",
      "Processing Record lorengau\n",
      "Processing Record honiara\n",
      "City not found. Skipping\n",
      "Processing Record thompson\n",
      "Processing Record lac du bonnet\n",
      "Processing Record shangzhi\n",
      "Processing Record qaanaaq\n",
      "Processing Record wilmington\n",
      "Processing Record luderitz\n",
      "Processing Record beloha\n",
      "Processing Record longyearbyen\n",
      "Processing Record padang\n",
      "Processing Record kingman\n",
      "City not found. Skipping\n",
      "Processing Record yellowknife\n",
      "Processing Record witu\n",
      "Processing Record staryy oskol\n",
      "Processing Record hasaki\n",
      "Processing Record springfield\n",
      "Processing Record hambantota\n",
      "Processing Record marzuq\n",
      "City not found. Skipping\n",
      "Processing Record brigantine\n",
      "Processing Record luanda\n",
      "Processing Record ballina\n",
      "Processing Record tiksi\n",
      "Processing Record hirara\n",
      "Processing Record kalmunai\n",
      "Processing Record khatanga\n",
      "Processing Record broome\n",
      "Processing Record la cruz\n",
      "Processing Record ust-ilimsk\n",
      "Processing Record anloga\n",
      "Processing Record damietta\n",
      "Processing Record indramayu\n",
      "Processing Record victoria\n",
      "Processing Record sarkand\n",
      "City not found. Skipping\n",
      "City not found. Skipping\n",
      "Processing Record tokmak\n",
      "Processing Record fukue\n",
      "Processing Record fairbanks\n",
      "Processing Record tempio pausania\n",
      "Processing Record kaitangata\n",
      "City not found. Skipping\n",
      "Processing Record alyangula\n",
      "Processing Record bahia de caraquez\n",
      "Processing Record katsuura\n",
      "Processing Record berlevag\n",
      "Processing Record puerto escondido\n",
      "Processing Record swan hill\n",
      "Processing Record buenavista\n",
      "Processing Record ulagan\n",
      "Processing Record bambous virieux\n",
      "Processing Record celestun\n",
      "Processing Record jamestown\n",
      "Processing Record kharan\n",
      "City not found. Skipping\n",
      "Processing Record houma\n",
      "Processing Record cayenne\n",
      "Processing Record fortuna\n",
      "Processing Record ozernovskiy\n",
      "Processing Record farafangana\n",
      "Processing Record carandai\n",
      "City not found. Skipping\n",
      "Processing Record big spring\n",
      "Processing Record lebanon\n",
      "Processing Record hojai\n",
      "Processing Record makakilo city\n",
      "Processing Record marsa matruh\n",
      "Processing Record isangel\n",
      "Processing Record gat\n",
      "Processing Record kazachinskoye\n",
      "Processing Record carballo\n",
      "Processing Record axim\n",
      "Processing Record saskylakh\n",
      "Processing Record caravelas\n",
      "Processing Record maragogi\n",
      "Processing Record tiznit\n",
      "Processing Record torbay\n",
      "Processing Record sabang\n",
      "Processing Record vardo\n",
      "Processing Record ucluelet\n",
      "City not found. Skipping\n",
      "Processing Record bintulu\n",
      "Processing Record ponta do sol\n",
      "Processing Record soroti\n",
      "Processing Record hamilton\n",
      "Processing Record maputo\n",
      "Processing Record cervo\n",
      "City not found. Skipping\n",
      "Processing Record pisco\n",
      "Processing Record winnipeg\n",
      "Processing Record alice springs\n",
      "Processing Record provideniya\n",
      "Processing Record belvedere marittimo\n",
      "Processing Record port elizabeth\n",
      "Processing Record luau\n",
      "Processing Record sola\n",
      "Processing Record mitsamiouli\n",
      "Processing Record mananjary\n",
      "Processing Record touros\n",
      "Processing Record leningradskiy\n",
      "Processing Record bloemfontein\n",
      "Processing Record gamba\n",
      "Processing Record oistins\n",
      "Processing Record terney\n",
      "Processing Record kieta\n",
      "Processing Record predivinsk\n",
      "Processing Record mar del plata\n",
      "City not found. Skipping\n",
      "Processing Record avera\n",
      "Processing Record gerash\n",
      "Processing Record nechi\n",
      "Processing Record lasa\n",
      "Processing Record tromso\n",
      "Processing Record sibolga\n",
      "Processing Record quatre cocos\n",
      "City not found. Skipping\n",
      "Processing Record concarneau\n",
      "Processing Record esperance\n",
      "City not found. Skipping\n",
      "Processing Record ngunguru\n",
      "Processing Record mwanza\n",
      "Processing Record kurchum\n",
      "Processing Record fare\n",
      "Processing Record walvis bay\n",
      "Processing Record quimperle\n",
      "Processing Record okhotsk\n",
      "Processing Record harper\n",
      "Processing Record champerico\n",
      "Processing Record whyalla\n",
      "Processing Record cherskiy\n",
      "Processing Record nishihara\n",
      "Processing Record nuuk\n",
      "Processing Record aklavik\n",
      "Processing Record sechura\n",
      "Processing Record amahai\n",
      "Processing Record baghmara\n",
      "Processing Record suileng\n",
      "City not found. Skipping\n",
      "Processing Record souillac\n",
      "Processing Record saint george\n",
      "Processing Record bonthe\n",
      "Processing Record papara\n",
      "Processing Record ostrovnoy\n",
      "Processing Record kalabo\n",
      "Processing Record sinnamary\n",
      "Processing Record port-gentil\n",
      "Processing Record kruisfontein\n",
      "Processing Record ilulissat\n",
      "Processing Record black river\n",
      "Processing Record qaqortoq\n",
      "Processing Record atbasar\n",
      "Processing Record adrar\n",
      "Processing Record havre-saint-pierre\n",
      "Processing Record mangaratiba\n",
      "Processing Record necochea\n",
      "Processing Record mentougou\n",
      "City not found. Skipping\n",
      "Processing Record ussel\n",
      "Processing Record killybegs\n",
      "Processing Record kununurra\n",
      "Processing Record banepa\n",
      "Processing Record omboue\n",
      "Processing Record kulhudhuffushi\n",
      "Processing Record marsh harbour\n",
      "City not found. Skipping\n",
      "Processing Record skibbereen\n",
      "Processing Record hvide sande\n",
      "Processing Record saint anthony\n",
      "Processing Record olinda\n",
      "Processing Record tessalit\n",
      "Processing Record meadow lake\n",
      "Processing Record ambilobe\n",
      "Processing Record khorramshahr\n",
      "Processing Record acapulco\n",
      "Processing Record cozumel\n",
      "Processing Record wattegama\n",
      "Processing Record samana\n",
      "Processing Record saint-pierre\n",
      "City not found. Skipping\n",
      "Processing Record gillette\n",
      "Processing Record narsaq\n",
      "Processing Record pacific grove\n",
      "Processing Record dunedin\n",
      "Processing Record shakawe\n",
      "Processing Record anadyr\n",
      "Processing Record muncar\n",
      "Processing Record henties bay\n",
      "Processing Record nome\n",
      "Processing Record deputatskiy\n",
      "Processing Record quarai\n",
      "Processing Record san andres\n",
      "Processing Record marawi\n",
      "Processing Record garissa\n"
     ]
    },
    {
     "name": "stdout",
     "output_type": "stream",
     "text": [
      "Processing Record stornoway\n",
      "Processing Record kafue\n",
      "Processing Record talara\n",
      "Processing Record anamur\n",
      "Processing Record mogadishu\n",
      "Processing Record yatou\n",
      "Processing Record teruel\n",
      "City not found. Skipping\n",
      "Processing Record belyy gorodok\n",
      "Processing Record portland\n",
      "Processing Record yar-sale\n",
      "Processing Record syracuse\n",
      "Processing Record clyde river\n",
      "Processing Record medea\n",
      "Processing Record ginda\n",
      "Processing Record trairi\n",
      "City not found. Skipping\n",
      "Processing Record kosa\n",
      "Processing Record pangody\n",
      "Processing Record saint-leu\n",
      "Processing Record thaba-tseka\n",
      "Processing Record cheremukhovo\n",
      "Processing Record puri\n",
      "Processing Record abha\n",
      "Processing Record miyako\n",
      "Processing Record rio gallegos\n",
      "Processing Record mahebourg\n",
      "Processing Record suez\n",
      "Processing Record mehran\n",
      "Processing Record marathon\n",
      "Processing Record karakol\n",
      "Processing Record chapais\n",
      "Processing Record chicama\n",
      "City not found. Skipping\n",
      "Processing Record komsomolskiy\n",
      "Processing Record karasjok\n",
      "Processing Record lukulu\n",
      "Processing Record ribeira grande\n",
      "Processing Record salinas\n",
      "Processing Record talnakh\n",
      "Processing Record zhigansk\n",
      "Processing Record avanigadda\n",
      "Processing Record morwell\n",
      "Processing Record parati\n",
      "Processing Record bandarbeyla\n",
      "Processing Record cidreira\n",
      "Processing Record acarau\n",
      "Processing Record san quintin\n",
      "Processing Record karratha\n",
      "City not found. Skipping\n",
      "Processing Record porkhov\n",
      "Processing Record nisia floresta\n",
      "Processing Record turayf\n",
      "City not found. Skipping\n",
      "City not found. Skipping\n",
      "Processing Record chinsali\n",
      "Processing Record dingle\n",
      "Processing Record steinbach\n",
      "Processing Record nyurba\n",
      "Processing Record nautla\n",
      "Processing Record qazvin\n",
      "Processing Record verkhoyansk\n",
      "Processing Record santa maria\n",
      "Processing Record igarka\n",
      "Processing Record awjilah\n",
      "Processing Record abu zabad\n",
      "Processing Record ibipeba\n",
      "Processing Record mabaruma\n",
      "Processing Record geraldton\n",
      "Processing Record biryusinsk\n",
      "Processing Record gorodishche\n",
      "Processing Record haapiti\n",
      "Processing Record kamenka\n",
      "Processing Record korem\n",
      "Processing Record ati\n",
      "Processing Record impfondo\n",
      "Processing Record krasnoselkup\n",
      "Processing Record smithers\n",
      "Processing Record puerto leguizamo\n",
      "Processing Record tommot\n",
      "Processing Record chimore\n",
      "Processing Record norman wells\n",
      "Processing Record brumunddal\n",
      "Processing Record plouzane\n",
      "Processing Record caraballeda\n",
      "Processing Record solnechnyy\n",
      "Processing Record mount gambier\n",
      "Processing Record popondetta\n",
      "Processing Record binzhou\n",
      "Processing Record tucuman\n",
      "Processing Record otorohanga\n",
      "Processing Record camacha\n",
      "Processing Record sines\n",
      "Processing Record itaituba\n",
      "Processing Record richards bay\n",
      "Processing Record oostrozebeke\n",
      "Processing Record moyale\n",
      "Processing Record qandala\n",
      "Processing Record akdagmadeni\n",
      "Processing Record sao paulo de olivenca\n",
      "Processing Record xingcheng\n",
      "Processing Record kahului\n",
      "Processing Record galesong\n",
      "Processing Record tilichiki\n",
      "Processing Record khandbari\n",
      "Processing Record mranggen\n",
      "Processing Record pukhrayan\n",
      "City not found. Skipping\n",
      "Processing Record puerto carreno\n",
      "Processing Record kavieng\n",
      "Processing Record san patricio\n",
      "Processing Record tuatapere\n",
      "Processing Record mirnyy\n",
      "Processing Record zapolyarnyy\n",
      "Processing Record barvikha\n",
      "Processing Record correntina\n",
      "Processing Record pajan\n",
      "Processing Record kirakira\n",
      "Processing Record husavik\n",
      "Processing Record bikaner\n",
      "Processing Record katherine\n",
      "Processing Record abomsa\n",
      "Processing Record lata\n",
      "Processing Record key west\n",
      "City not found. Skipping\n",
      "Processing Record tran\n",
      "Processing Record antalaha\n",
      "Processing Record paraiso\n",
      "Processing Record tablac\n",
      "Processing Record lamar\n",
      "City not found. Skipping\n",
      "Processing Record chabahar\n",
      "Processing Record ketchikan\n",
      "Processing Record yeppoon\n",
      "Processing Record te anau\n",
      "Processing Record sao jose da coroa grande\n",
      "Processing Record lazaro cardenas\n",
      "Processing Record nazare\n",
      "Processing Record shitanjing\n",
      "Processing Record rakkestad\n",
      "Processing Record bowen\n",
      "Processing Record mao\n",
      "Processing Record mecca\n",
      "Processing Record kerema\n",
      "Processing Record la asuncion\n",
      "Processing Record sambava\n",
      "Processing Record mikuni\n",
      "Processing Record russell\n",
      "City not found. Skipping\n",
      "Processing Record andros town\n",
      "Processing Record luganville\n",
      "Processing Record nelson bay\n",
      "Processing Record mayumba\n",
      "Processing Record pemangkat\n",
      "City not found. Skipping\n",
      "Processing Record scottsboro\n",
      "Processing Record ust-maya\n",
      "Processing Record bathsheba\n",
      "Processing Record arica\n",
      "Processing Record nalut\n",
      "Processing Record qasigiannguit\n",
      "Processing Record chato\n",
      "Processing Record coihaique\n",
      "Processing Record effium\n",
      "Processing Record chipiona\n",
      "Processing Record ambon\n",
      "Processing Record nueva concepcion\n",
      "Processing Record hobyo\n",
      "Processing Record jennings\n",
      "Processing Record teguldet\n",
      "Processing Record passo fundo\n",
      "Processing Record erdenet\n",
      "Processing Record asau\n",
      "Processing Record abu dhabi\n",
      "Processing Record dembi dolo\n",
      "Processing Record ugoofaaru\n",
      "City not found. Skipping\n",
      "Processing Record comendador\n",
      "Processing Record obo\n",
      "Processing Record belmonte\n",
      "Processing Record isiro\n",
      "Processing Record nabire\n",
      "Processing Record moses lake\n",
      "Processing Record cairns\n",
      "Processing Record samarai\n",
      "Processing Record nzerekore\n",
      "Processing Record baoro\n",
      "City not found. Skipping\n",
      "Processing Record araouane\n",
      "Processing Record sitka\n",
      "Processing Record salmas\n",
      "City not found. Skipping\n",
      "Processing Record camaqua\n",
      "Processing Record mwingi\n",
      "Processing Record stantsionno-oyashinskiy\n",
      "Processing Record bend\n",
      "Processing Record parana\n",
      "Processing Record natal\n",
      "Processing Record awbari\n",
      "Processing Record sun valley\n",
      "Processing Record virginia beach\n",
      "Processing Record aitape\n",
      "Processing Record silver city\n",
      "Processing Record tonantins\n",
      "Processing Record grand gaube\n",
      "Processing Record moose factory\n",
      "Processing Record indi\n",
      "Processing Record crossville\n",
      "Processing Record biltine\n",
      "Processing Record itoman\n",
      "Processing Record kyabe\n",
      "Processing Record micheweni\n",
      "Processing Record khovu-aksy\n",
      "Processing Record yulara\n",
      "Processing Record praia da vitoria\n",
      "Processing Record akrini\n",
      "Processing Record jiehu\n",
      "Processing Record lavrentiya\n",
      "Processing Record namatanai\n",
      "Processing Record nedjo\n",
      "Processing Record buchanan\n",
      "Processing Record alofi\n",
      "Processing Record sault sainte marie\n",
      "Processing Record riyadh\n",
      "Processing Record aykhal\n",
      "Processing Record costinesti\n",
      "City not found. Skipping\n",
      "Processing Record manokwari\n",
      "Processing Record srednekolymsk\n",
      "Processing Record shingu\n",
      "Processing Record shenzhen\n",
      "Processing Record ballachulish\n",
      "Processing Record dunda\n",
      "Processing Record kpandae\n",
      "Processing Record brownsville\n",
      "Processing Record goksun\n",
      "Processing Record puerto madryn\n",
      "City not found. Skipping\n",
      "Processing Record xuanhua\n",
      "Processing Record bedele\n",
      "Processing Record ulladulla\n",
      "Processing Record svetlogorsk\n",
      "Processing Record vao\n",
      "Processing Record eureka\n",
      "City not found. Skipping\n",
      "Processing Record le port\n",
      "Processing Record armidale\n",
      "Processing Record fallon\n",
      "Processing Record lodja\n",
      "Processing Record beeville\n",
      "Processing Record labuhan\n",
      "Processing Record wajima\n",
      "Processing Record dafeng\n",
      "Processing Record hofn\n",
      "Processing Record canavieiras\n",
      "Processing Record omsukchan\n",
      "Processing Record karaton\n",
      "Processing Record yerbogachen\n",
      "Processing Record aswan\n",
      "Processing Record kloulklubed\n",
      "Processing Record tomatlan\n",
      "Processing Record vilhena\n",
      "Processing Record pombas\n",
      "Processing Record elizabeth city\n",
      "Processing Record tihuatlan\n",
      "Processing Record bimbo\n",
      "Processing Record kurya\n",
      "Processing Record felipe carrillo puerto\n",
      "Processing Record jian\n",
      "Processing Record usak\n",
      "Processing Record kapuskasing\n",
      "Processing Record tsaratanana\n",
      "Processing Record petricani\n",
      "Processing Record north bend\n",
      "Processing Record fort nelson\n",
      "Processing Record verkhniy mamon\n",
      "Processing Record qingdao\n",
      "City not found. Skipping\n",
      "Processing Record lusambo\n",
      "Processing Record tyukhtet\n",
      "Processing Record kaeo\n",
      "Processing Record nichinan\n",
      "Processing Record grafton\n",
      "Processing Record spirit river\n",
      "Processing Record kikwit\n",
      "Processing Record lompoc\n",
      "Processing Record faya\n",
      "Processing Record matadi\n",
      "Processing Record tena\n",
      "Processing Record kawalu\n",
      "Processing Record kargasok\n",
      "Processing Record falmouth\n",
      "Processing Record tholey\n",
      "Processing Record baruun-urt\n",
      "Processing Record lugovoy\n",
      "Processing Record honningsvag\n",
      "Processing Record batagay\n",
      "Processing Record ust-nera\n",
      "Processing Record rumoi\n",
      "Processing Record upata\n",
      "Processing Record sumbe\n",
      "Processing Record zemio\n"
     ]
    }
   ],
   "source": [
    "# Create empty lists to hold the temperature, humidity, cloudiness, and wind speeds of each city \n",
    "max_temperature = []\n",
    "humidity = []\n",
    "cloudiness = []\n",
    "wind_speed = []\n",
    "latitude = []\n",
    "longitude = []\n",
    "city_names = []\n",
    "country = []\n",
    "date = []\n",
    "\n",
    "for city in cities:\n",
    "    url = \"http://api.openweathermap.org/data/2.5/weather?\"\n",
    "    query_url = url + \"q=\" + city + \"&units=imperial\" + \"&appid=\" + weather_api_key\n",
    "    weather_response = requests.get(query_url).json()\n",
    "    \n",
    "    try: \n",
    "        max_temperature.append(weather_response['main']['temp_max'])\n",
    "        humidity.append(weather_response['main']['humidity'])\n",
    "        cloudiness.append(weather_response['clouds']['all'])\n",
    "        wind_speed.append(weather_response['wind']['speed'])\n",
    "        latitude.append(weather_response['coord']['lat'])\n",
    "        longitude.append(weather_response['coord']['lon'])\n",
    "        country.append(weather_response['sys']['country'])\n",
    "        date.append(weather_response['dt'])\n",
    "        city_names.append(weather_response['name'])\n",
    "        print(f\"Processing Record {city}\")\n",
    "        \n",
    "    except:\n",
    "        print(\"City not found. Skipping\")\n",
    "        pass"
   ]
  },
  {
   "cell_type": "markdown",
   "metadata": {},
   "source": [
    "# Convert Raw Data to DataFrame\n",
    "\n",
    "Export the city data into a .csv.\n",
    "Display the DataFrame"
   ]
  },
  {
   "cell_type": "code",
   "execution_count": 7,
   "metadata": {},
   "outputs": [
    {
     "name": "stdout",
     "output_type": "stream",
     "text": [
      "561\n",
      "561\n",
      "561\n",
      "561\n",
      "561\n",
      "561\n",
      "561\n",
      "561\n",
      "561\n"
     ]
    }
   ],
   "source": [
    "# Make sure array lengths match\n",
    "print(len(city_names))\n",
    "print(len(latitude))\n",
    "print(len(longitude))\n",
    "print(len(max_temperature))\n",
    "print(len(humidity))\n",
    "print(len(cloudiness))\n",
    "print(len(wind_speed))\n",
    "print(len(country))\n",
    "print(len(date))"
   ]
  },
  {
   "cell_type": "code",
   "execution_count": 8,
   "metadata": {},
   "outputs": [
    {
     "data": {
      "text/html": [
       "<div>\n",
       "<style scoped>\n",
       "    .dataframe tbody tr th:only-of-type {\n",
       "        vertical-align: middle;\n",
       "    }\n",
       "\n",
       "    .dataframe tbody tr th {\n",
       "        vertical-align: top;\n",
       "    }\n",
       "\n",
       "    .dataframe thead th {\n",
       "        text-align: right;\n",
       "    }\n",
       "</style>\n",
       "<table border=\"1\" class=\"dataframe\">\n",
       "  <thead>\n",
       "    <tr style=\"text-align: right;\">\n",
       "      <th></th>\n",
       "      <th>City</th>\n",
       "      <th>Latitude</th>\n",
       "      <th>Longitude</th>\n",
       "      <th>Max Temp</th>\n",
       "      <th>Humidity</th>\n",
       "      <th>Cloudiness</th>\n",
       "      <th>Wind Speed</th>\n",
       "      <th>Country</th>\n",
       "      <th>Date</th>\n",
       "    </tr>\n",
       "  </thead>\n",
       "  <tbody>\n",
       "    <tr>\n",
       "      <th>0</th>\n",
       "      <td>Zarichne</td>\n",
       "      <td>51.8126</td>\n",
       "      <td>26.1290</td>\n",
       "      <td>22.96</td>\n",
       "      <td>98</td>\n",
       "      <td>89</td>\n",
       "      <td>7.87</td>\n",
       "      <td>UA</td>\n",
       "      <td>1611943092</td>\n",
       "    </tr>\n",
       "    <tr>\n",
       "      <th>1</th>\n",
       "      <td>Mataura</td>\n",
       "      <td>-46.1927</td>\n",
       "      <td>168.8643</td>\n",
       "      <td>39.43</td>\n",
       "      <td>95</td>\n",
       "      <td>32</td>\n",
       "      <td>1.90</td>\n",
       "      <td>NZ</td>\n",
       "      <td>1611943092</td>\n",
       "    </tr>\n",
       "    <tr>\n",
       "      <th>2</th>\n",
       "      <td>Ushuaia</td>\n",
       "      <td>-54.8000</td>\n",
       "      <td>-68.3000</td>\n",
       "      <td>39.20</td>\n",
       "      <td>65</td>\n",
       "      <td>75</td>\n",
       "      <td>25.32</td>\n",
       "      <td>AR</td>\n",
       "      <td>1611942995</td>\n",
       "    </tr>\n",
       "    <tr>\n",
       "      <th>3</th>\n",
       "      <td>New Norfolk</td>\n",
       "      <td>-42.7826</td>\n",
       "      <td>147.0587</td>\n",
       "      <td>61.00</td>\n",
       "      <td>83</td>\n",
       "      <td>76</td>\n",
       "      <td>1.92</td>\n",
       "      <td>AU</td>\n",
       "      <td>1611942498</td>\n",
       "    </tr>\n",
       "    <tr>\n",
       "      <th>4</th>\n",
       "      <td>Busselton</td>\n",
       "      <td>-33.6500</td>\n",
       "      <td>115.3333</td>\n",
       "      <td>64.00</td>\n",
       "      <td>80</td>\n",
       "      <td>0</td>\n",
       "      <td>3.00</td>\n",
       "      <td>AU</td>\n",
       "      <td>1611943093</td>\n",
       "    </tr>\n",
       "    <tr>\n",
       "      <th>...</th>\n",
       "      <td>...</td>\n",
       "      <td>...</td>\n",
       "      <td>...</td>\n",
       "      <td>...</td>\n",
       "      <td>...</td>\n",
       "      <td>...</td>\n",
       "      <td>...</td>\n",
       "      <td>...</td>\n",
       "      <td>...</td>\n",
       "    </tr>\n",
       "    <tr>\n",
       "      <th>556</th>\n",
       "      <td>Ust-Nera</td>\n",
       "      <td>64.5667</td>\n",
       "      <td>143.2000</td>\n",
       "      <td>-16.24</td>\n",
       "      <td>79</td>\n",
       "      <td>100</td>\n",
       "      <td>2.71</td>\n",
       "      <td>RU</td>\n",
       "      <td>1611943173</td>\n",
       "    </tr>\n",
       "    <tr>\n",
       "      <th>557</th>\n",
       "      <td>Rumoi</td>\n",
       "      <td>43.9344</td>\n",
       "      <td>141.6428</td>\n",
       "      <td>26.42</td>\n",
       "      <td>94</td>\n",
       "      <td>100</td>\n",
       "      <td>8.93</td>\n",
       "      <td>JP</td>\n",
       "      <td>1611943173</td>\n",
       "    </tr>\n",
       "    <tr>\n",
       "      <th>558</th>\n",
       "      <td>Upata</td>\n",
       "      <td>8.0086</td>\n",
       "      <td>-62.3989</td>\n",
       "      <td>88.00</td>\n",
       "      <td>60</td>\n",
       "      <td>62</td>\n",
       "      <td>3.00</td>\n",
       "      <td>VE</td>\n",
       "      <td>1611943173</td>\n",
       "    </tr>\n",
       "    <tr>\n",
       "      <th>559</th>\n",
       "      <td>Sumbe</td>\n",
       "      <td>-11.2061</td>\n",
       "      <td>13.8437</td>\n",
       "      <td>78.39</td>\n",
       "      <td>77</td>\n",
       "      <td>9</td>\n",
       "      <td>9.57</td>\n",
       "      <td>AO</td>\n",
       "      <td>1611943173</td>\n",
       "    </tr>\n",
       "    <tr>\n",
       "      <th>560</th>\n",
       "      <td>Zemio</td>\n",
       "      <td>5.0314</td>\n",
       "      <td>25.1361</td>\n",
       "      <td>83.12</td>\n",
       "      <td>27</td>\n",
       "      <td>91</td>\n",
       "      <td>3.24</td>\n",
       "      <td>CF</td>\n",
       "      <td>1611943173</td>\n",
       "    </tr>\n",
       "  </tbody>\n",
       "</table>\n",
       "<p>561 rows × 9 columns</p>\n",
       "</div>"
      ],
      "text/plain": [
       "            City  Latitude  Longitude  Max Temp  Humidity  Cloudiness  \\\n",
       "0       Zarichne   51.8126    26.1290     22.96        98          89   \n",
       "1        Mataura  -46.1927   168.8643     39.43        95          32   \n",
       "2        Ushuaia  -54.8000   -68.3000     39.20        65          75   \n",
       "3    New Norfolk  -42.7826   147.0587     61.00        83          76   \n",
       "4      Busselton  -33.6500   115.3333     64.00        80           0   \n",
       "..           ...       ...        ...       ...       ...         ...   \n",
       "556     Ust-Nera   64.5667   143.2000    -16.24        79         100   \n",
       "557        Rumoi   43.9344   141.6428     26.42        94         100   \n",
       "558        Upata    8.0086   -62.3989     88.00        60          62   \n",
       "559        Sumbe  -11.2061    13.8437     78.39        77           9   \n",
       "560        Zemio    5.0314    25.1361     83.12        27          91   \n",
       "\n",
       "     Wind Speed Country        Date  \n",
       "0          7.87      UA  1611943092  \n",
       "1          1.90      NZ  1611943092  \n",
       "2         25.32      AR  1611942995  \n",
       "3          1.92      AU  1611942498  \n",
       "4          3.00      AU  1611943093  \n",
       "..          ...     ...         ...  \n",
       "556        2.71      RU  1611943173  \n",
       "557        8.93      JP  1611943173  \n",
       "558        3.00      VE  1611943173  \n",
       "559        9.57      AO  1611943173  \n",
       "560        3.24      CF  1611943173  \n",
       "\n",
       "[561 rows x 9 columns]"
      ]
     },
     "execution_count": 8,
     "metadata": {},
     "output_type": "execute_result"
    }
   ],
   "source": [
    "# Create new Data Frame with data\n",
    "weather_df = pd.DataFrame({'City': city_names,\n",
    "                           'Latitude': latitude,\n",
    "                           'Longitude': longitude,\n",
    "                           'Max Temp': max_temperature,\n",
    "                           'Humidity': humidity,\n",
    "                           'Cloudiness': cloudiness,\n",
    "                           'Wind Speed': wind_speed,\n",
    "                           'Country': country,\n",
    "                           'Date': date})\n",
    "weather_df"
   ]
  },
  {
   "cell_type": "code",
   "execution_count": 9,
   "metadata": {},
   "outputs": [
    {
     "data": {
      "text/html": [
       "<div>\n",
       "<style scoped>\n",
       "    .dataframe tbody tr th:only-of-type {\n",
       "        vertical-align: middle;\n",
       "    }\n",
       "\n",
       "    .dataframe tbody tr th {\n",
       "        vertical-align: top;\n",
       "    }\n",
       "\n",
       "    .dataframe thead th {\n",
       "        text-align: right;\n",
       "    }\n",
       "</style>\n",
       "<table border=\"1\" class=\"dataframe\">\n",
       "  <thead>\n",
       "    <tr style=\"text-align: right;\">\n",
       "      <th></th>\n",
       "      <th>Latitude</th>\n",
       "      <th>Longitude</th>\n",
       "      <th>Max Temp</th>\n",
       "      <th>Humidity</th>\n",
       "      <th>Cloudiness</th>\n",
       "      <th>Wind Speed</th>\n",
       "      <th>Date</th>\n",
       "    </tr>\n",
       "  </thead>\n",
       "  <tbody>\n",
       "    <tr>\n",
       "      <th>count</th>\n",
       "      <td>561.000000</td>\n",
       "      <td>561.000000</td>\n",
       "      <td>561.000000</td>\n",
       "      <td>561.00000</td>\n",
       "      <td>561.000000</td>\n",
       "      <td>561.000000</td>\n",
       "      <td>5.610000e+02</td>\n",
       "    </tr>\n",
       "    <tr>\n",
       "      <th>mean</th>\n",
       "      <td>18.434561</td>\n",
       "      <td>18.460603</td>\n",
       "      <td>51.350321</td>\n",
       "      <td>71.27451</td>\n",
       "      <td>50.973262</td>\n",
       "      <td>8.542442</td>\n",
       "      <td>1.611943e+09</td>\n",
       "    </tr>\n",
       "    <tr>\n",
       "      <th>std</th>\n",
       "      <td>32.492451</td>\n",
       "      <td>90.185920</td>\n",
       "      <td>34.544237</td>\n",
       "      <td>19.70287</td>\n",
       "      <td>38.709647</td>\n",
       "      <td>5.657807</td>\n",
       "      <td>2.161409e+02</td>\n",
       "    </tr>\n",
       "    <tr>\n",
       "      <th>min</th>\n",
       "      <td>-54.800000</td>\n",
       "      <td>-175.200000</td>\n",
       "      <td>-49.700000</td>\n",
       "      <td>10.00000</td>\n",
       "      <td>0.000000</td>\n",
       "      <td>0.070000</td>\n",
       "      <td>1.611942e+09</td>\n",
       "    </tr>\n",
       "    <tr>\n",
       "      <th>25%</th>\n",
       "      <td>-7.026800</td>\n",
       "      <td>-59.783300</td>\n",
       "      <td>33.800000</td>\n",
       "      <td>61.00000</td>\n",
       "      <td>11.000000</td>\n",
       "      <td>4.470000</td>\n",
       "      <td>1.611943e+09</td>\n",
       "    </tr>\n",
       "    <tr>\n",
       "      <th>50%</th>\n",
       "      <td>20.508300</td>\n",
       "      <td>23.433300</td>\n",
       "      <td>62.600000</td>\n",
       "      <td>77.00000</td>\n",
       "      <td>50.000000</td>\n",
       "      <td>7.380000</td>\n",
       "      <td>1.611943e+09</td>\n",
       "    </tr>\n",
       "    <tr>\n",
       "      <th>75%</th>\n",
       "      <td>45.216700</td>\n",
       "      <td>97.823500</td>\n",
       "      <td>78.460000</td>\n",
       "      <td>86.00000</td>\n",
       "      <td>90.000000</td>\n",
       "      <td>11.500000</td>\n",
       "      <td>1.611943e+09</td>\n",
       "    </tr>\n",
       "    <tr>\n",
       "      <th>max</th>\n",
       "      <td>78.218600</td>\n",
       "      <td>178.416700</td>\n",
       "      <td>99.050000</td>\n",
       "      <td>100.00000</td>\n",
       "      <td>100.000000</td>\n",
       "      <td>32.210000</td>\n",
       "      <td>1.611943e+09</td>\n",
       "    </tr>\n",
       "  </tbody>\n",
       "</table>\n",
       "</div>"
      ],
      "text/plain": [
       "         Latitude   Longitude    Max Temp   Humidity  Cloudiness  Wind Speed  \\\n",
       "count  561.000000  561.000000  561.000000  561.00000  561.000000  561.000000   \n",
       "mean    18.434561   18.460603   51.350321   71.27451   50.973262    8.542442   \n",
       "std     32.492451   90.185920   34.544237   19.70287   38.709647    5.657807   \n",
       "min    -54.800000 -175.200000  -49.700000   10.00000    0.000000    0.070000   \n",
       "25%     -7.026800  -59.783300   33.800000   61.00000   11.000000    4.470000   \n",
       "50%     20.508300   23.433300   62.600000   77.00000   50.000000    7.380000   \n",
       "75%     45.216700   97.823500   78.460000   86.00000   90.000000   11.500000   \n",
       "max     78.218600  178.416700   99.050000  100.00000  100.000000   32.210000   \n",
       "\n",
       "               Date  \n",
       "count  5.610000e+02  \n",
       "mean   1.611943e+09  \n",
       "std    2.161409e+02  \n",
       "min    1.611942e+09  \n",
       "25%    1.611943e+09  \n",
       "50%    1.611943e+09  \n",
       "75%    1.611943e+09  \n",
       "max    1.611943e+09  "
      ]
     },
     "execution_count": 9,
     "metadata": {},
     "output_type": "execute_result"
    }
   ],
   "source": [
    "# Get summary statistics\n",
    "weather_df.describe()"
   ]
  },
  {
   "cell_type": "code",
   "execution_count": 10,
   "metadata": {},
   "outputs": [],
   "source": [
    "# Create the output File (CSV)\n",
    "weather_df_csv = \"WeatherPy.csv\"\n",
    "\n",
    "# Export the city_data into a csv\n",
    "weather_df.to_csv(weather_df_csv, index_label=\"City_ID\")"
   ]
  },
  {
   "cell_type": "markdown",
   "metadata": {},
   "source": [
    "#  Inspect the data and remove the cities where the humidity > 100%.\n",
    "Skip this step if there are no cities that have humidity > 100%."
   ]
  },
  {
   "cell_type": "code",
   "execution_count": 11,
   "metadata": {},
   "outputs": [
    {
     "data": {
      "text/html": [
       "<div>\n",
       "<style scoped>\n",
       "    .dataframe tbody tr th:only-of-type {\n",
       "        vertical-align: middle;\n",
       "    }\n",
       "\n",
       "    .dataframe tbody tr th {\n",
       "        vertical-align: top;\n",
       "    }\n",
       "\n",
       "    .dataframe thead th {\n",
       "        text-align: right;\n",
       "    }\n",
       "</style>\n",
       "<table border=\"1\" class=\"dataframe\">\n",
       "  <thead>\n",
       "    <tr style=\"text-align: right;\">\n",
       "      <th></th>\n",
       "      <th>City</th>\n",
       "      <th>Latitude</th>\n",
       "      <th>Longitude</th>\n",
       "      <th>Max Temp</th>\n",
       "      <th>Humidity</th>\n",
       "      <th>Cloudiness</th>\n",
       "      <th>Wind Speed</th>\n",
       "      <th>Country</th>\n",
       "      <th>Date</th>\n",
       "    </tr>\n",
       "  </thead>\n",
       "  <tbody>\n",
       "    <tr>\n",
       "      <th>0</th>\n",
       "      <td>Zarichne</td>\n",
       "      <td>51.8126</td>\n",
       "      <td>26.1290</td>\n",
       "      <td>22.96</td>\n",
       "      <td>98</td>\n",
       "      <td>89</td>\n",
       "      <td>7.87</td>\n",
       "      <td>UA</td>\n",
       "      <td>1611943092</td>\n",
       "    </tr>\n",
       "    <tr>\n",
       "      <th>1</th>\n",
       "      <td>Mataura</td>\n",
       "      <td>-46.1927</td>\n",
       "      <td>168.8643</td>\n",
       "      <td>39.43</td>\n",
       "      <td>95</td>\n",
       "      <td>32</td>\n",
       "      <td>1.90</td>\n",
       "      <td>NZ</td>\n",
       "      <td>1611943092</td>\n",
       "    </tr>\n",
       "    <tr>\n",
       "      <th>2</th>\n",
       "      <td>Ushuaia</td>\n",
       "      <td>-54.8000</td>\n",
       "      <td>-68.3000</td>\n",
       "      <td>39.20</td>\n",
       "      <td>65</td>\n",
       "      <td>75</td>\n",
       "      <td>25.32</td>\n",
       "      <td>AR</td>\n",
       "      <td>1611942995</td>\n",
       "    </tr>\n",
       "    <tr>\n",
       "      <th>3</th>\n",
       "      <td>New Norfolk</td>\n",
       "      <td>-42.7826</td>\n",
       "      <td>147.0587</td>\n",
       "      <td>61.00</td>\n",
       "      <td>83</td>\n",
       "      <td>76</td>\n",
       "      <td>1.92</td>\n",
       "      <td>AU</td>\n",
       "      <td>1611942498</td>\n",
       "    </tr>\n",
       "    <tr>\n",
       "      <th>4</th>\n",
       "      <td>Busselton</td>\n",
       "      <td>-33.6500</td>\n",
       "      <td>115.3333</td>\n",
       "      <td>64.00</td>\n",
       "      <td>80</td>\n",
       "      <td>0</td>\n",
       "      <td>3.00</td>\n",
       "      <td>AU</td>\n",
       "      <td>1611943093</td>\n",
       "    </tr>\n",
       "    <tr>\n",
       "      <th>...</th>\n",
       "      <td>...</td>\n",
       "      <td>...</td>\n",
       "      <td>...</td>\n",
       "      <td>...</td>\n",
       "      <td>...</td>\n",
       "      <td>...</td>\n",
       "      <td>...</td>\n",
       "      <td>...</td>\n",
       "      <td>...</td>\n",
       "    </tr>\n",
       "    <tr>\n",
       "      <th>556</th>\n",
       "      <td>Ust-Nera</td>\n",
       "      <td>64.5667</td>\n",
       "      <td>143.2000</td>\n",
       "      <td>-16.24</td>\n",
       "      <td>79</td>\n",
       "      <td>100</td>\n",
       "      <td>2.71</td>\n",
       "      <td>RU</td>\n",
       "      <td>1611943173</td>\n",
       "    </tr>\n",
       "    <tr>\n",
       "      <th>557</th>\n",
       "      <td>Rumoi</td>\n",
       "      <td>43.9344</td>\n",
       "      <td>141.6428</td>\n",
       "      <td>26.42</td>\n",
       "      <td>94</td>\n",
       "      <td>100</td>\n",
       "      <td>8.93</td>\n",
       "      <td>JP</td>\n",
       "      <td>1611943173</td>\n",
       "    </tr>\n",
       "    <tr>\n",
       "      <th>558</th>\n",
       "      <td>Upata</td>\n",
       "      <td>8.0086</td>\n",
       "      <td>-62.3989</td>\n",
       "      <td>88.00</td>\n",
       "      <td>60</td>\n",
       "      <td>62</td>\n",
       "      <td>3.00</td>\n",
       "      <td>VE</td>\n",
       "      <td>1611943173</td>\n",
       "    </tr>\n",
       "    <tr>\n",
       "      <th>559</th>\n",
       "      <td>Sumbe</td>\n",
       "      <td>-11.2061</td>\n",
       "      <td>13.8437</td>\n",
       "      <td>78.39</td>\n",
       "      <td>77</td>\n",
       "      <td>9</td>\n",
       "      <td>9.57</td>\n",
       "      <td>AO</td>\n",
       "      <td>1611943173</td>\n",
       "    </tr>\n",
       "    <tr>\n",
       "      <th>560</th>\n",
       "      <td>Zemio</td>\n",
       "      <td>5.0314</td>\n",
       "      <td>25.1361</td>\n",
       "      <td>83.12</td>\n",
       "      <td>27</td>\n",
       "      <td>91</td>\n",
       "      <td>3.24</td>\n",
       "      <td>CF</td>\n",
       "      <td>1611943173</td>\n",
       "    </tr>\n",
       "  </tbody>\n",
       "</table>\n",
       "<p>561 rows × 9 columns</p>\n",
       "</div>"
      ],
      "text/plain": [
       "            City  Latitude  Longitude  Max Temp  Humidity  Cloudiness  \\\n",
       "0       Zarichne   51.8126    26.1290     22.96        98          89   \n",
       "1        Mataura  -46.1927   168.8643     39.43        95          32   \n",
       "2        Ushuaia  -54.8000   -68.3000     39.20        65          75   \n",
       "3    New Norfolk  -42.7826   147.0587     61.00        83          76   \n",
       "4      Busselton  -33.6500   115.3333     64.00        80           0   \n",
       "..           ...       ...        ...       ...       ...         ...   \n",
       "556     Ust-Nera   64.5667   143.2000    -16.24        79         100   \n",
       "557        Rumoi   43.9344   141.6428     26.42        94         100   \n",
       "558        Upata    8.0086   -62.3989     88.00        60          62   \n",
       "559        Sumbe  -11.2061    13.8437     78.39        77           9   \n",
       "560        Zemio    5.0314    25.1361     83.12        27          91   \n",
       "\n",
       "     Wind Speed Country        Date  \n",
       "0          7.87      UA  1611943092  \n",
       "1          1.90      NZ  1611943092  \n",
       "2         25.32      AR  1611942995  \n",
       "3          1.92      AU  1611942498  \n",
       "4          3.00      AU  1611943093  \n",
       "..          ...     ...         ...  \n",
       "556        2.71      RU  1611943173  \n",
       "557        8.93      JP  1611943173  \n",
       "558        3.00      VE  1611943173  \n",
       "559        9.57      AO  1611943173  \n",
       "560        3.24      CF  1611943173  \n",
       "\n",
       "[561 rows x 9 columns]"
      ]
     },
     "execution_count": 11,
     "metadata": {},
     "output_type": "execute_result"
    }
   ],
   "source": [
    "#  Create a new DataFrame only with cities that have humidity less than or equal to 100% \n",
    "humidity_df = weather_df[weather_df[\"Humidity\"] <= 100]\n",
    "humidity_df"
   ]
  },
  {
   "cell_type": "code",
   "execution_count": 12,
   "metadata": {},
   "outputs": [
    {
     "data": {
      "text/html": [
       "<div>\n",
       "<style scoped>\n",
       "    .dataframe tbody tr th:only-of-type {\n",
       "        vertical-align: middle;\n",
       "    }\n",
       "\n",
       "    .dataframe tbody tr th {\n",
       "        vertical-align: top;\n",
       "    }\n",
       "\n",
       "    .dataframe thead th {\n",
       "        text-align: right;\n",
       "    }\n",
       "</style>\n",
       "<table border=\"1\" class=\"dataframe\">\n",
       "  <thead>\n",
       "    <tr style=\"text-align: right;\">\n",
       "      <th></th>\n",
       "      <th>Latitude</th>\n",
       "      <th>Longitude</th>\n",
       "      <th>Max Temp</th>\n",
       "      <th>Humidity</th>\n",
       "      <th>Cloudiness</th>\n",
       "      <th>Wind Speed</th>\n",
       "      <th>Date</th>\n",
       "    </tr>\n",
       "  </thead>\n",
       "  <tbody>\n",
       "    <tr>\n",
       "      <th>count</th>\n",
       "      <td>561.000000</td>\n",
       "      <td>561.000000</td>\n",
       "      <td>561.000000</td>\n",
       "      <td>561.00000</td>\n",
       "      <td>561.000000</td>\n",
       "      <td>561.000000</td>\n",
       "      <td>5.610000e+02</td>\n",
       "    </tr>\n",
       "    <tr>\n",
       "      <th>mean</th>\n",
       "      <td>18.434561</td>\n",
       "      <td>18.460603</td>\n",
       "      <td>51.350321</td>\n",
       "      <td>71.27451</td>\n",
       "      <td>50.973262</td>\n",
       "      <td>8.542442</td>\n",
       "      <td>1.611943e+09</td>\n",
       "    </tr>\n",
       "    <tr>\n",
       "      <th>std</th>\n",
       "      <td>32.492451</td>\n",
       "      <td>90.185920</td>\n",
       "      <td>34.544237</td>\n",
       "      <td>19.70287</td>\n",
       "      <td>38.709647</td>\n",
       "      <td>5.657807</td>\n",
       "      <td>2.161409e+02</td>\n",
       "    </tr>\n",
       "    <tr>\n",
       "      <th>min</th>\n",
       "      <td>-54.800000</td>\n",
       "      <td>-175.200000</td>\n",
       "      <td>-49.700000</td>\n",
       "      <td>10.00000</td>\n",
       "      <td>0.000000</td>\n",
       "      <td>0.070000</td>\n",
       "      <td>1.611942e+09</td>\n",
       "    </tr>\n",
       "    <tr>\n",
       "      <th>25%</th>\n",
       "      <td>-7.026800</td>\n",
       "      <td>-59.783300</td>\n",
       "      <td>33.800000</td>\n",
       "      <td>61.00000</td>\n",
       "      <td>11.000000</td>\n",
       "      <td>4.470000</td>\n",
       "      <td>1.611943e+09</td>\n",
       "    </tr>\n",
       "    <tr>\n",
       "      <th>50%</th>\n",
       "      <td>20.508300</td>\n",
       "      <td>23.433300</td>\n",
       "      <td>62.600000</td>\n",
       "      <td>77.00000</td>\n",
       "      <td>50.000000</td>\n",
       "      <td>7.380000</td>\n",
       "      <td>1.611943e+09</td>\n",
       "    </tr>\n",
       "    <tr>\n",
       "      <th>75%</th>\n",
       "      <td>45.216700</td>\n",
       "      <td>97.823500</td>\n",
       "      <td>78.460000</td>\n",
       "      <td>86.00000</td>\n",
       "      <td>90.000000</td>\n",
       "      <td>11.500000</td>\n",
       "      <td>1.611943e+09</td>\n",
       "    </tr>\n",
       "    <tr>\n",
       "      <th>max</th>\n",
       "      <td>78.218600</td>\n",
       "      <td>178.416700</td>\n",
       "      <td>99.050000</td>\n",
       "      <td>100.00000</td>\n",
       "      <td>100.000000</td>\n",
       "      <td>32.210000</td>\n",
       "      <td>1.611943e+09</td>\n",
       "    </tr>\n",
       "  </tbody>\n",
       "</table>\n",
       "</div>"
      ],
      "text/plain": [
       "         Latitude   Longitude    Max Temp   Humidity  Cloudiness  Wind Speed  \\\n",
       "count  561.000000  561.000000  561.000000  561.00000  561.000000  561.000000   \n",
       "mean    18.434561   18.460603   51.350321   71.27451   50.973262    8.542442   \n",
       "std     32.492451   90.185920   34.544237   19.70287   38.709647    5.657807   \n",
       "min    -54.800000 -175.200000  -49.700000   10.00000    0.000000    0.070000   \n",
       "25%     -7.026800  -59.783300   33.800000   61.00000   11.000000    4.470000   \n",
       "50%     20.508300   23.433300   62.600000   77.00000   50.000000    7.380000   \n",
       "75%     45.216700   97.823500   78.460000   86.00000   90.000000   11.500000   \n",
       "max     78.218600  178.416700   99.050000  100.00000  100.000000   32.210000   \n",
       "\n",
       "               Date  \n",
       "count  5.610000e+02  \n",
       "mean   1.611943e+09  \n",
       "std    2.161409e+02  \n",
       "min    1.611942e+09  \n",
       "25%    1.611943e+09  \n",
       "50%    1.611943e+09  \n",
       "75%    1.611943e+09  \n",
       "max    1.611943e+09  "
      ]
     },
     "execution_count": 12,
     "metadata": {},
     "output_type": "execute_result"
    }
   ],
   "source": [
    "# Get summary statistics\n",
    "humidity_df.describe()"
   ]
  },
  {
   "cell_type": "markdown",
   "metadata": {},
   "source": [
    "# Plotting the Data\n",
    "\n",
    "Use proper labeling of the plots using plot titles (including date of analysis) and axes labels.\n",
    "Save the plotted figures as .pngs."
   ]
  },
  {
   "cell_type": "markdown",
   "metadata": {},
   "source": [
    "#  Latitude vs. Temperature Plot"
   ]
  },
  {
   "cell_type": "code",
   "execution_count": 13,
   "metadata": {
    "scrolled": true
   },
   "outputs": [
    {
     "data": {
      "image/png": "[encoded data removed]",
      "text/plain": [
       "<Figure size 432x288 with 1 Axes>"
      ]
     },
     "metadata": {
      "needs_background": "light"
     },
     "output_type": "display_data"
    }
   ],
   "source": [
    "# Pull out the latitude and temperature\n",
    "latitude_scatter = humidity_df[\"Latitude\"]\n",
    "temperature_scatter = humidity_df[\"Max Temp\"]\n",
    "\n",
    "# Plot the results in a scatter plot\n",
    "plt.scatter(latitude_scatter, temperature_scatter, edgecolors = 'black', color = 'blue')\n",
    "\n",
    "# Find date and fix formatting\n",
    "weather_date = datetime.fromtimestamp(humidity_df.loc[0,\"Date\"]).strftime('%Y-%m-%d')\n",
    "\n",
    "# Add title and labels\n",
    "plt.title(f\"Latitude vs. Max Temperature ({weather_date})\")\n",
    "plt.xlabel(\"Latitude\")\n",
    "plt.ylabel(\"Max Temperature (F)\")\n",
    "\n",
    "\n",
    "\n",
    "# Save as png\n",
    "plt.savefig(\"Lat_Temp.png\")"
   ]
  },
  {
   "cell_type": "code",
   "execution_count": null,
   "metadata": {},
   "outputs": [],
   "source": []
  },
  {
   "cell_type": "markdown",
   "metadata": {},
   "source": [
    "This graph is analyzing the relationship between latitude and temperature. Based on the scatter plot returned, temperature is affected by distance from the equator, so as you move further away from it, the temperature decreases. "
   ]
  },
  {
   "cell_type": "markdown",
   "metadata": {},
   "source": [
    "#  Latitude vs. Humidity Plot"
   ]
  },
  {
   "cell_type": "code",
   "execution_count": 14,
   "metadata": {},
   "outputs": [
    {
     "data": {
      "image/png": "[encoded data removed]",
      "text/plain": [
       "<Figure size 432x288 with 1 Axes>"
      ]
     },
     "metadata": {
      "needs_background": "light"
     },
     "output_type": "display_data"
    }
   ],
   "source": [
    "# Pull out the latitude and temperature\n",
    "latitude_scatter = humidity_df[\"Latitude\"]\n",
    "humidity_scatter = humidity_df[\"Humidity\"]\n",
    "\n",
    "# Plot the results in a scatter plot\n",
    "plt.scatter(latitude_scatter, humidity_scatter, edgecolors = 'black', color = 'blue')\n",
    "\n",
    "# Find date and fix formatting\n",
    "weather_date = datetime.fromtimestamp(humidity_df.loc[0,\"Date\"]).strftime('%m-%d-%Y')\n",
    "\n",
    "# Add title and labels\n",
    "plt.title(f\"Latitude vs. Humidity ({weather_date})\")\n",
    "plt.xlabel(\"Latitude\")\n",
    "plt.ylabel(\"Humidity\")\n",
    "\n",
    "# Save as png\n",
    "plt.savefig(\"Lat_Hum.png\")"
   ]
  },
  {
   "cell_type": "markdown",
   "metadata": {},
   "source": [
    "This graph is analyzing the relationship between latitude and humidity. Based on the scatter plot returned, there is no clear relationship between the two variables. "
   ]
  },
  {
   "cell_type": "markdown",
   "metadata": {},
   "source": [
    "# Latitude vs. Cloudiness Plot"
   ]
  },
  {
   "cell_type": "code",
   "execution_count": 15,
   "metadata": {
    "scrolled": true
   },
   "outputs": [
    {
     "data": {
      "image/png": "[encoded data removed]",
      "text/plain": [
       "<Figure size 432x288 with 1 Axes>"
      ]
     },
     "metadata": {
      "needs_background": "light"
     },
     "output_type": "display_data"
    }
   ],
   "source": [
    "# Pull out the latitude and temperature\n",
    "latitude_scatter = humidity_df[\"Latitude\"]\n",
    "cloudiness_scatter = humidity_df[\"Cloudiness\"]\n",
    "\n",
    "# Plot the results in a scatter plot\n",
    "plt.scatter(latitude_scatter, cloudiness_scatter, edgecolors = 'black', color = 'blue')\n",
    "\n",
    "# Find date and fix formatting\n",
    "weather_date = datetime.fromtimestamp(humidity_df.loc[0,\"Date\"]).strftime('%m-%d-%Y')\n",
    "\n",
    "# Add title and labels\n",
    "plt.title(f\"Latitude vs. Cloudiness ({weather_date})\")\n",
    "plt.xlabel(\"Latitude\")\n",
    "plt.ylabel(\"Cloudiness\")\n",
    "\n",
    "# Save as png\n",
    "plt.savefig(\"Lat_Cloud.png\")"
   ]
  },
  {
   "cell_type": "markdown",
   "metadata": {},
   "source": [
    "This graph is analyzing the relationship between latitude and cloudiness. Based on the scatter plot returned, there is no clear relationship between the two variables."
   ]
  },
  {
   "cell_type": "markdown",
   "metadata": {},
   "source": [
    "# Latitude vs. Wind Speed Plot"
   ]
  },
  {
   "cell_type": "code",
   "execution_count": 16,
   "metadata": {},
   "outputs": [
    {
     "data": {
      "image/png": "[encoded data removed]",
      "text/plain": [
       "<Figure size 432x288 with 1 Axes>"
      ]
     },
     "metadata": {
      "needs_background": "light"
     },
     "output_type": "display_data"
    }
   ],
   "source": [
    "# Pull out the latitude and temperature\n",
    "latitude_scatter = humidity_df[\"Latitude\"]\n",
    "wind_scatter = humidity_df[\"Wind Speed\"]\n",
    "\n",
    "# Plot the results in a scatter plot\n",
    "plt.scatter(latitude_scatter, wind_scatter, edgecolors = 'black', color = 'blue')\n",
    "\n",
    "# Find date and fix formatting\n",
    "weather_date = datetime.fromtimestamp(humidity_df.loc[0,\"Date\"]).strftime('%m-%d-%Y')\n",
    "\n",
    "# Add title and labels\n",
    "plt.title(f\"Latitude vs. Wind Speed ({weather_date})\")\n",
    "plt.xlabel(\"Latitude\")\n",
    "plt.ylabel(\"Wind Speed\")\n",
    "\n",
    "# Save as png\n",
    "plt.savefig(\"Lat_Wind.png\")"
   ]
  },
  {
   "cell_type": "markdown",
   "metadata": {},
   "source": [
    "This graph is analyzing the relationship between latitude and wind speed. Based on the scatter plot returned, there is no clear relationship between the two variables."
   ]
  },
  {
   "cell_type": "markdown",
   "metadata": {},
   "source": [
    "#  Linear Regression"
   ]
  },
  {
   "cell_type": "code",
   "execution_count": 17,
   "metadata": {},
   "outputs": [],
   "source": [
    "# Create new dataframes for northern and southern hemispheres\n",
    "northern_hem_df = humidity_df[humidity_df[\"Latitude\"] >= 0] \n",
    "southern_hem_df = humidity_df[humidity_df[\"Latitude\"] <= 0]"
   ]
  },
  {
   "cell_type": "markdown",
   "metadata": {},
   "source": [
    "#  Northern Hemisphere - Max Temp vs. Latitude Linear Regression"
   ]
  },
  {
   "cell_type": "code",
   "execution_count": 18,
   "metadata": {},
   "outputs": [
    {
     "name": "stdout",
     "output_type": "stream",
     "text": [
      "The r-squared value is 0.7719701183374726\n"
     ]
    },
    {
     "data": {
      "image/png": "[encoded data removed]",
      "text/plain": [
       "<Figure size 432x288 with 1 Axes>"
      ]
     },
     "metadata": {
      "needs_background": "light"
     },
     "output_type": "display_data"
    },
    {
     "data": {
      "text/plain": [
       "<Figure size 432x288 with 0 Axes>"
      ]
     },
     "metadata": {},
     "output_type": "display_data"
    }
   ],
   "source": [
    "# Find the linear regression model\n",
    "northern_latitude = northern_hem_df[\"Latitude\"]\n",
    "northern_max_temp = northern_hem_df[\"Max Temp\"]\n",
    "\n",
    "(slope, intercept, rvalue, pvalue, stderr) = linregress(northern_latitude, northern_max_temp)\n",
    "regress_values = northern_latitude * slope + intercept\n",
    "line_eq = \"y = \" + str(round(slope,2)) + \"x + \" + str(round(intercept,2))\n",
    "\n",
    "# Plot the results in a scatter plot\n",
    "plt.scatter(northern_latitude, northern_max_temp, edgecolors = 'black', color = 'blue')\n",
    "plt.plot(northern_latitude,regress_values,\"r-\", color = \"red\")\n",
    "plt.annotate(line_eq, (5,10), fontsize=15, color =\"red\")\n",
    "plt.title(\"Max Temp vs. Latitude in the Northern Hemisphere\")\n",
    "plt.xlabel(\"Latitude\")\n",
    "plt.ylabel(\"Max Temp (F)\")\n",
    "print(f\"The r-squared value is {rvalue**2}\")\n",
    "plt.show()\n",
    "\n",
    "# Save as png\n",
    "plt.savefig(\"Nor_Lat_Temp.png\")"
   ]
  },
  {
   "cell_type": "markdown",
   "metadata": {},
   "source": [
    "This linear regression model is showing that there is a strong negative relationship between latitude and temperature in the northern hemisphere. Since the r-squared value is 0.76, this indicates that the model shown is a good fit for the data set, meaning that the data points are falling close to the fitted regression line. "
   ]
  },
  {
   "cell_type": "markdown",
   "metadata": {},
   "source": [
    "# Southern Hemisphere - Max Temp vs. Latitude Linear Regression"
   ]
  },
  {
   "cell_type": "code",
   "execution_count": 19,
   "metadata": {},
   "outputs": [
    {
     "name": "stdout",
     "output_type": "stream",
     "text": [
      "The r-squared value is 0.4208586136563453\n"
     ]
    },
    {
     "data": {
      "image/png": "[encoded data removed]",
      "text/plain": [
       "<Figure size 432x288 with 1 Axes>"
      ]
     },
     "metadata": {
      "needs_background": "light"
     },
     "output_type": "display_data"
    },
    {
     "data": {
      "text/plain": [
       "<Figure size 432x288 with 0 Axes>"
      ]
     },
     "metadata": {},
     "output_type": "display_data"
    }
   ],
   "source": [
    "# Find the linear regression model\n",
    "southern_latitude = southern_hem_df[\"Latitude\"]\n",
    "southern_max_temp = southern_hem_df[\"Max Temp\"]\n",
    "\n",
    "(slope, intercept, rvalue, pvalue, stderr) = linregress(southern_latitude, southern_max_temp)\n",
    "regress_values = southern_latitude * slope + intercept\n",
    "line_eq = \"y = \" + str(round(slope,2)) + \"x + \" + str(round(intercept,2))\n",
    "\n",
    "# Plot the results in a scatter plot\n",
    "plt.scatter(southern_latitude, southern_max_temp, edgecolors = 'black', color = 'blue')\n",
    "plt.plot(southern_latitude,regress_values,\"r-\", color = \"red\")\n",
    "plt.annotate(line_eq, (-40,50), fontsize=15, color =\"red\")\n",
    "plt.title(\"Max Temp vs. Latitude in the Southern Hemisphere\")\n",
    "plt.xlabel(\"Latitude\")\n",
    "plt.ylabel(\"Max Temp (F)\")\n",
    "print(f\"The r-squared value is {rvalue**2}\")\n",
    "plt.show()\n",
    "\n",
    "# Save as png\n",
    "plt.savefig(\"Sou_Lat_Temp.png\")"
   ]
  },
  {
   "cell_type": "markdown",
   "metadata": {},
   "source": [
    "This linear regression model is showing that there is a positive relationship between latitude and temperature in the southern hemisphere. Since the r-squared value is 0.43, this indicates that the model shown is an ok fit for the data set, meaning that some data points are falling close to the fitted regression line. "
   ]
  },
  {
   "cell_type": "markdown",
   "metadata": {},
   "source": [
    "# Northern Hemisphere - Humidity (%) vs. Latitude Linear Regression"
   ]
  },
  {
   "cell_type": "code",
   "execution_count": 20,
   "metadata": {},
   "outputs": [
    {
     "name": "stdout",
     "output_type": "stream",
     "text": [
      "The r-squared value is 0.15455125603648687\n"
     ]
    },
    {
     "data": {
      "image/png": "[encoded data removed]",
      "text/plain": [
       "<Figure size 432x288 with 1 Axes>"
      ]
     },
     "metadata": {
      "needs_background": "light"
     },
     "output_type": "display_data"
    },
    {
     "data": {
      "text/plain": [
       "<Figure size 432x288 with 0 Axes>"
      ]
     },
     "metadata": {},
     "output_type": "display_data"
    }
   ],
   "source": [
    "# Find the linear regression model\n",
    "northern_latitude = northern_hem_df[\"Latitude\"]\n",
    "northern_humidity = northern_hem_df[\"Humidity\"]\n",
    "\n",
    "(slope, intercept, rvalue, pvalue, stderr) = linregress(northern_latitude, northern_humidity)\n",
    "regress_values = northern_latitude * slope + intercept\n",
    "line_eq = \"y = \" + str(round(slope,2)) + \"x + \" + str(round(intercept,2))\n",
    "\n",
    "# Plot the results in a scatter plot\n",
    "plt.scatter(northern_latitude, northern_humidity, edgecolors = 'black', color = 'blue')\n",
    "plt.plot(northern_latitude,regress_values,\"r-\", color = \"red\")\n",
    "plt.annotate(line_eq, (40,40), fontsize=15, color =\"red\")\n",
    "plt.title(\"Humidity vs. Latitude in the Northern Hemisphere\")\n",
    "plt.xlabel(\"Latitude\")\n",
    "plt.ylabel(\"Humidity\")\n",
    "print(f\"The r-squared value is {rvalue**2}\")\n",
    "plt.show()\n",
    "\n",
    "# Save as png\n",
    "plt.savefig(\"Nor_Lat_Hum.png\")"
   ]
  },
  {
   "cell_type": "markdown",
   "metadata": {},
   "source": [
    "This linear regression model is showing that there is a positive relationship between latitude and humidity in the northern hemisphere. Since the r-squared value is 0.18, this indicates that the model shown is not a good fit for the data set, meaning that the majority of data points are not falling close to the fitted regression line. "
   ]
  },
  {
   "cell_type": "markdown",
   "metadata": {},
   "source": [
    "# Southern Hemisphere - Humidity (%) vs. Latitude Linear Regression"
   ]
  },
  {
   "cell_type": "code",
   "execution_count": 21,
   "metadata": {},
   "outputs": [
    {
     "name": "stdout",
     "output_type": "stream",
     "text": [
      "The r-squared value is 0.0011627205845512352\n"
     ]
    },
    {
     "data": {
      "image/png": "[encoded data removed]",
      "text/plain": [
       "<Figure size 432x288 with 1 Axes>"
      ]
     },
     "metadata": {
      "needs_background": "light"
     },
     "output_type": "display_data"
    },
    {
     "data": {
      "text/plain": [
       "<Figure size 432x288 with 0 Axes>"
      ]
     },
     "metadata": {},
     "output_type": "display_data"
    }
   ],
   "source": [
    "# Find the linear regression model\n",
    "southern_latitude = southern_hem_df[\"Latitude\"]\n",
    "southern_humidity = southern_hem_df[\"Humidity\"]\n",
    "\n",
    "(slope, intercept, rvalue, pvalue, stderr) = linregress(southern_latitude, southern_humidity)\n",
    "regress_values = southern_latitude * slope + intercept\n",
    "line_eq = \"y = \" + str(round(slope,2)) + \"x + \" + str(round(intercept,2))\n",
    "\n",
    "# Plot the results in a scatter plot\n",
    "plt.scatter(southern_latitude, southern_humidity, edgecolors = 'black', color = 'blue')\n",
    "plt.plot(southern_latitude,regress_values,\"r-\", color = \"red\")\n",
    "plt.annotate(line_eq, (-40,40), fontsize=15, color =\"red\")\n",
    "plt.title(\"Humidity vs. Latitude in the Southern Hemisphere\")\n",
    "plt.xlabel(\"Latitude\")\n",
    "plt.ylabel(\"Humidity\")\n",
    "print(f\"The r-squared value is {rvalue**2}\")\n",
    "plt.show()\n",
    "\n",
    "# Save as png\n",
    "plt.savefig(\"Sou_Lat_Hum.png\")"
   ]
  },
  {
   "cell_type": "markdown",
   "metadata": {},
   "source": [
    "This linear regression model is showing that there is a positive relationship between latitude and humidity in the southern hemisphere. Since the r-squared value is 0.03, this indicates that the model shown is not a good fit for the data set, meaning that the majority of data points are not falling close to the fitted regression line."
   ]
  },
  {
   "cell_type": "markdown",
   "metadata": {},
   "source": [
    "# Northern Hemisphere - Cloudiness (%) vs. Latitude Linear Regression"
   ]
  },
  {
   "cell_type": "code",
   "execution_count": 22,
   "metadata": {},
   "outputs": [
    {
     "name": "stdout",
     "output_type": "stream",
     "text": [
      "The r-squared value is 0.037621149420011706\n"
     ]
    },
    {
     "data": {
      "image/png": "[encoded data removed]",
      "text/plain": [
       "<Figure size 432x288 with 1 Axes>"
      ]
     },
     "metadata": {
      "needs_background": "light"
     },
     "output_type": "display_data"
    },
    {
     "data": {
      "text/plain": [
       "<Figure size 432x288 with 0 Axes>"
      ]
     },
     "metadata": {},
     "output_type": "display_data"
    }
   ],
   "source": [
    "# Find the linear regression model\n",
    "northern_latitude = northern_hem_df[\"Latitude\"]\n",
    "northern_cloudiness = northern_hem_df[\"Cloudiness\"]\n",
    "\n",
    "(slope, intercept, rvalue, pvalue, stderr) = linregress(northern_latitude, northern_cloudiness)\n",
    "regress_values = northern_latitude * slope + intercept\n",
    "line_eq = \"y = \" + str(round(slope,2)) + \"x + \" + str(round(intercept,2))\n",
    "\n",
    "# Plot the results in a scatter plot\n",
    "plt.scatter(northern_latitude, northern_cloudiness, edgecolors = 'black', color = 'blue')\n",
    "plt.plot(northern_latitude,regress_values,\"r-\", color = \"red\")\n",
    "plt.annotate(line_eq, (20,38), fontsize=15, color =\"red\")\n",
    "plt.title(\"Cloudiness vs. Latitude in the Northern Hemisphere\")\n",
    "plt.xlabel(\"Latitude\")\n",
    "plt.ylabel(\"Cloudiness\")\n",
    "print(f\"The r-squared value is {rvalue**2}\")\n",
    "plt.show()\n",
    "\n",
    "# Save as png\n",
    "plt.savefig(\"Nor_Lat_Cloud.png\")"
   ]
  },
  {
   "cell_type": "markdown",
   "metadata": {},
   "source": [
    "This linear regression model is showing that there is a positive relationship between latitude and cloudiness in the northern hemisphere. Since the r-squared value is 0.06, this indicates that the model shown is not a good fit for the data set, meaning that the majority of data points are not falling close to the fitted regression line."
   ]
  },
  {
   "cell_type": "markdown",
   "metadata": {},
   "source": [
    "#  Southern Hemisphere - Cloudiness (%) vs. Latitude Linear Regression"
   ]
  },
  {
   "cell_type": "code",
   "execution_count": 23,
   "metadata": {},
   "outputs": [
    {
     "name": "stdout",
     "output_type": "stream",
     "text": [
      "The r-squared value is 0.0011627205845512352\n"
     ]
    },
    {
     "data": {
      "image/png": "[encoded data removed]",
      "text/plain": [
       "<Figure size 432x288 with 1 Axes>"
      ]
     },
     "metadata": {
      "needs_background": "light"
     },
     "output_type": "display_data"
    },
    {
     "data": {
      "text/plain": [
       "<Figure size 432x288 with 0 Axes>"
      ]
     },
     "metadata": {},
     "output_type": "display_data"
    }
   ],
   "source": [
    "# Find the linear regression model\n",
    "southern_latitude = southern_hem_df[\"Latitude\"]\n",
    "southern_cloudiness = southern_hem_df[\"Humidity\"]\n",
    "\n",
    "(slope, intercept, rvalue, pvalue, stderr) = linregress(southern_latitude, southern_cloudiness)\n",
    "regress_values = southern_latitude * slope + intercept\n",
    "line_eq = \"y = \" + str(round(slope,2)) + \"x + \" + str(round(intercept,2))\n",
    "\n",
    "# Plot the results in a scatter plot\n",
    "plt.scatter(southern_latitude, southern_cloudiness, edgecolors = 'black', color = 'blue')\n",
    "plt.plot(southern_latitude,regress_values,\"r-\", color = \"red\")\n",
    "plt.annotate(line_eq, (-40,50), fontsize=15, color =\"red\")\n",
    "plt.title(\"Cloudiness vs. Latitude in the Southern Hemisphere\")\n",
    "plt.xlabel(\"Latitude\")\n",
    "plt.ylabel(\"Cloudiness\")\n",
    "print(f\"The r-squared value is {rvalue**2}\")\n",
    "plt.show()\n",
    "\n",
    "# Save as png\n",
    "plt.savefig(\"Sou_Lat_Cloud.png\")"
   ]
  },
  {
   "cell_type": "markdown",
   "metadata": {},
   "source": [
    "This linear regression model is showing that there is a positive relationship between latitude and cloudiness in the southern hemisphere. Since the r-squared value is 0.03, this indicates that the model shown is not a good fit for the data set, meaning that the majority of data points are not falling close to the fitted regression line."
   ]
  },
  {
   "cell_type": "markdown",
   "metadata": {},
   "source": [
    "# Northern Hemisphere - Wind Speed (mph) vs. Latitude Linear Regression"
   ]
  },
  {
   "cell_type": "code",
   "execution_count": 24,
   "metadata": {},
   "outputs": [
    {
     "name": "stdout",
     "output_type": "stream",
     "text": [
      "The r-squared value is 0.0025264931173995964\n"
     ]
    },
    {
     "data": {
      "image/png": "[encoded data removed]",
      "text/plain": [
       "<Figure size 432x288 with 1 Axes>"
      ]
     },
     "metadata": {
      "needs_background": "light"
     },
     "output_type": "display_data"
    },
    {
     "data": {
      "text/plain": [
       "<Figure size 432x288 with 0 Axes>"
      ]
     },
     "metadata": {},
     "output_type": "display_data"
    }
   ],
   "source": [
    "# Find the linear regression model\n",
    "northern_latitude = northern_hem_df[\"Latitude\"]\n",
    "northern_wind = northern_hem_df[\"Wind Speed\"]\n",
    "\n",
    "(slope, intercept, rvalue, pvalue, stderr) = linregress(northern_latitude, northern_wind)\n",
    "regress_values = northern_latitude * slope + intercept\n",
    "line_eq = \"y = \" + str(round(slope,2)) + \"x + \" + str(round(intercept,2))\n",
    "\n",
    "# Plot the results in a scatter plot\n",
    "plt.scatter(northern_latitude, northern_wind, edgecolors = 'black', color = 'blue')\n",
    "plt.plot(northern_latitude,regress_values,\"r-\", color = \"red\")\n",
    "plt.annotate(line_eq, (20,38), fontsize=15, color =\"red\")\n",
    "plt.title(\"Wind Speed vs. Latitude in the Northern Hemisphere\")\n",
    "plt.xlabel(\"Latitude\")\n",
    "plt.ylabel(\"Wind Speed\")\n",
    "print(f\"The r-squared value is {rvalue**2}\")\n",
    "plt.show()\n",
    "\n",
    "# Save as png\n",
    "plt.savefig(\"Nor_Lat_Wind.png\")"
   ]
  },
  {
   "cell_type": "markdown",
   "metadata": {},
   "source": [
    "This linear regression model is showing that there is a negative relationship between latitude and wind speed in the northern hemisphere. Since the r-squared value is 0.002, this indicates that the model shown is not a good fit for the data set, meaning that the majority of data points are not falling close to the fitted regression line."
   ]
  },
  {
   "cell_type": "markdown",
   "metadata": {},
   "source": [
    "#  Southern Hemisphere - Wind Speed (mph) vs. Latitude Linear Regression"
   ]
  },
  {
   "cell_type": "code",
   "execution_count": 25,
   "metadata": {},
   "outputs": [
    {
     "name": "stdout",
     "output_type": "stream",
     "text": [
      "The r-squared value is 0.0010892032306529613\n"
     ]
    },
    {
     "data": {
      "image/png": "[encoded data removed]",
      "text/plain": [
       "<Figure size 432x288 with 1 Axes>"
      ]
     },
     "metadata": {
      "needs_background": "light"
     },
     "output_type": "display_data"
    },
    {
     "data": {
      "text/plain": [
       "<Figure size 432x288 with 0 Axes>"
      ]
     },
     "metadata": {},
     "output_type": "display_data"
    }
   ],
   "source": [
    "# Find the linear regression model\n",
    "southern_latitude = southern_hem_df[\"Latitude\"]\n",
    "southern_wind = southern_hem_df[\"Wind Speed\"]\n",
    "\n",
    "(slope, intercept, rvalue, pvalue, stderr) = linregress(southern_latitude, southern_wind)\n",
    "regress_values = southern_latitude * slope + intercept\n",
    "line_eq = \"y = \" + str(round(slope,2)) + \"x + \" + str(round(intercept,2))\n",
    "\n",
    "# Plot the results in a scatter plot\n",
    "plt.scatter(southern_latitude, southern_wind, edgecolors = 'black', color = 'blue')\n",
    "plt.plot(southern_latitude,regress_values,\"r-\", color = \"red\")\n",
    "plt.annotate(line_eq, (-40,25), fontsize=15, color =\"red\")\n",
    "plt.title(\"Wind Speed vs. Latitude in the Southern Hemisphere\")\n",
    "plt.xlabel(\"Latitude\")\n",
    "plt.ylabel(\"Wind Speed\")\n",
    "print(f\"The r-squared value is {rvalue**2}\")\n",
    "plt.show()\n",
    "\n",
    "# Save as png\n",
    "plt.savefig(\"Sou_Lat_Wind.png\")"
   ]
  },
  {
   "cell_type": "markdown",
   "metadata": {},
   "source": [
    "This linear regression model is showing that there is a negative relationship between latitude and wind speed in the southern hemisphere. Since the r-squared value is 0.13, this indicates that the model shown is not a good fit for the data set, meaning that the majority of data points are not falling close to the fitted regression line."
   ]
  },
  {
   "cell_type": "code",
   "execution_count": null,
   "metadata": {},
   "outputs": [],
   "source": []
  },
  {
   "cell_type": "code",
   "execution_count": null,
   "metadata": {},
   "outputs": [],
   "source": []
  }
 ],
 "metadata": {
  "kernelspec": {
   "display_name": "Python 3",
   "language": "python",
   "name": "python3"
  },
  "language_info": {
   "codemirror_mode": {
    "name": "ipython",
    "version": 3
   },
   "file_extension": ".py",
   "mimetype": "text/x-python",
   "name": "python",
   "nbconvert_exporter": "python",
   "pygments_lexer": "ipython3",
   "version": "3.8.5"
  }
 },
 "nbformat": 4,
 "nbformat_minor": 4
}
